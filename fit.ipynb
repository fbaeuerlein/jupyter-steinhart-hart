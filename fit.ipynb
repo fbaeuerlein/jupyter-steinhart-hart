{
 "cells": [
  {
   "cell_type": "markdown",
   "metadata": {},
   "source": [
    "# Fitting NTC data to get Steinhart-Hart coefficients\n",
    "\n",
    "To estimate the Steinhart-Hart coefficients for a table of measurements (temperature & resistance), the four coefficient equation is fitted into to the data.\n",
    "\n",
    "For details see:\n",
    "- https://en.wikipedia.org/wiki/Steinhart%E2%80%93Hart_equation\n",
    "- https://de.wikipedia.org/wiki/Steinhart-Hart-Gleichung"
   ]
  },
  {
   "cell_type": "code",
   "execution_count": 6,
   "metadata": {},
   "outputs": [
    {
     "name": "stdout",
     "output_type": "stream",
     "text": [
      "Coefficients: \n",
      "a[0] = 0.0008007962518033838\n",
      "a[1] = 0.0002801771690138954\n",
      "a[2] = -3.146191436339325e-06\n",
      "a[3] = 3.0672861791634275e-07\n"
     ]
    }
   ],
   "source": [
    "# Details:\n",
    "# Fitting of the four coefficient equation\n",
    "\n",
    "%matplotlib widget\n",
    "import csv\n",
    "import numpy\n",
    "from scipy.optimize import curve_fit\n",
    "import matplotlib.pyplot as plt\n",
    "\n",
    "x = []\n",
    "y = []\n",
    "\n",
    "# read data from CSV file\n",
    "with open('data.csv', newline='') as csvfile:\n",
    "    datareader = csv.reader(csvfile, delimiter=',')\n",
    "    for row in datareader:\n",
    "        # extract right columns from csv\n",
    "        # adapt if you have different csv layout\n",
    "        t = float(row[0])\n",
    "        x.append(float(row[2])*1000) # resistance values in kOhm\n",
    "        y.append(t + 273.15)         # convert temperature to absolute temperature\n",
    "\n",
    "# Steinhart-Hart-Equation\n",
    "def f(x, a0, a1, a2, a3):\n",
    "    return 1. / (a0 + a1 * numpy.log(x) + a2 * numpy.power(numpy.log(x),2) + a3 * numpy.power(numpy.log(x),3))\n",
    "\n",
    "# Do the fit with initial values (needed, otherwise no meaningful result)\n",
    "params, cov = curve_fit(f, x, y, p0=[1e-4, 1e-4, 1e-4, 1e-4])\n",
    "\n",
    "print(\"Coefficients: \")\n",
    "for i, c in enumerate(params):\n",
    "    print(\"a[{}] = {}\".format(i, c))"
   ]
  },
  {
   "cell_type": "markdown",
   "metadata": {},
   "source": [
    "## Recorded data and resulting curve for coefficients"
   ]
  },
  {
   "cell_type": "code",
   "execution_count": 7,
   "metadata": {},
   "outputs": [
    {
     "data": {
      "application/vnd.jupyter.widget-view+json": {
       "model_id": "1fea5ca0f0a84500a4d3c085b3a16ebb",
       "version_major": 2,
       "version_minor": 0
      },
      "text/plain": [
       "Canvas(toolbar=Toolbar(toolitems=[('Home', 'Reset original view', 'home', 'home'), ('Back', 'Back to previous …"
      ]
     },
     "metadata": {},
     "output_type": "display_data"
    }
   ],
   "source": [
    "y2 = []\n",
    "for v in x: \n",
    "    y2.append(f(v, params[0], params[1], params[2], params[3]))\n",
    "\n",
    "ax, fig = plt.subplots()\n",
    "# plot original data and result\n",
    "fig.plot(x, y, color=\"b\")\n",
    "fig.plot(x, y2, color=\"r\")\n",
    "plt.xlabel(\"R [V/A]\")\n",
    "plt.ylabel(\"T [K]\")\n",
    "plt.grid()\n",
    "plt.show()"
   ]
  },
  {
   "cell_type": "markdown",
   "metadata": {},
   "source": [
    "## Absolute error plot"
   ]
  },
  {
   "cell_type": "code",
   "execution_count": 8,
   "metadata": {},
   "outputs": [
    {
     "data": {
      "application/vnd.jupyter.widget-view+json": {
       "model_id": "5e5ffeb1ab1848c6900ccf59211453aa",
       "version_major": 2,
       "version_minor": 0
      },
      "text/plain": [
       "Canvas(toolbar=Toolbar(toolitems=[('Home', 'Reset original view', 'home', 'home'), ('Back', 'Back to previous …"
      ]
     },
     "metadata": {},
     "output_type": "display_data"
    }
   ],
   "source": [
    "ax, fig = plt.subplots()\n",
    "plt.plot(x, numpy.abs(numpy.subtract(y, y2))) # error values\n",
    "plt.grid()\n",
    "plt.show()"
   ]
  },
  {
   "cell_type": "code",
   "execution_count": null,
   "metadata": {},
   "outputs": [],
   "source": []
  }
 ],
 "metadata": {
  "kernelspec": {
   "display_name": "Python 3",
   "language": "python",
   "name": "python3"
  },
  "language_info": {
   "codemirror_mode": {
    "name": "ipython",
    "version": 3
   },
   "file_extension": ".py",
   "mimetype": "text/x-python",
   "name": "python",
   "nbconvert_exporter": "python",
   "pygments_lexer": "ipython3",
   "version": "3.8.5"
  }
 },
 "nbformat": 4,
 "nbformat_minor": 4
}
